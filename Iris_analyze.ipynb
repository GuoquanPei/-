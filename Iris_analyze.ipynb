{
 "cells": [
  {
   "cell_type": "markdown",
   "id": "2975cceb",
   "metadata": {},
   "source": [
    "# 鸢尾花数据集分析"
   ]
  },
  {
   "cell_type": "markdown",
   "id": "6b3d95c3",
   "metadata": {},
   "source": [
    "## 1.鸢尾花数据集加载"
   ]
  },
  {
   "cell_type": "markdown",
   "id": "8cc999cb",
   "metadata": {},
   "source": [
    "如果没有sklearn环境，需要先安装，在bash中：pip install scikit-learn matplotlib seaborn"
   ]
  },
  {
   "cell_type": "code",
   "execution_count": 29,
   "id": "4b398a74",
   "metadata": {},
   "outputs": [
    {
     "name": "stdout",
     "output_type": "stream",
     "text": [
      "dict_keys(['data', 'target', 'frame', 'target_names', 'DESCR', 'feature_names', 'filename'])\n"
     ]
    }
   ],
   "source": [
    "from sklearn.datasets import load_iris\n",
    "import numpy as np\n",
    "import pandas as pd\n",
    "import matplotlib.pyplot as plt\n",
    "from matplotlib import rcParams\n",
    "import seaborn as sns\n",
    "from sklearn.linear_model import LinearRegression\n",
    "from sklearn.model_selection import train_test_split\n",
    "from sklearn.metrics import mean_squared_error\n",
    "from sklearn.metrics import mean_squared_error, mean_absolute_error, r2_score\n",
    "\n",
    "\n",
    "# 鸢尾花数据集封装在sklearn中，不需要单独下载，从sklear中导入即可\n",
    "\n",
    "iris_dataset = load_iris()\n",
    "\n",
    "# 查看鸢尾花数据集的键\n",
    "print(iris_dataset.keys())\n"
   ]
  },
  {
   "cell_type": "markdown",
   "id": "0aa0e9e3",
   "metadata": {},
   "source": [
    "由上结果可知，该数据集的表头有 `['data', 'target', 'frame', 'target_names', 'DESCR', 'feature_names', 'filename']`。  \n",
    "其中：\n",
    "\n",
    "- `DESCR` 是数据集的简要说明\n",
    "- `target_names` 是花的品种\n",
    "- `feature_names` 是特征说明\n",
    "\n",
    "数据存储在 `data` 和 `target` 中，也是本次实验主要采用的字段。\n"
   ]
  },
  {
   "cell_type": "markdown",
   "id": "a12f0425",
   "metadata": {},
   "source": [
    "## 2.鸢尾花数据集的data和target字段"
   ]
  },
  {
   "cell_type": "markdown",
   "id": "b8aee5b7",
   "metadata": {},
   "source": [
    "**查看data字段数据**"
   ]
  },
  {
   "cell_type": "code",
   "execution_count": 30,
   "id": "0daccb03",
   "metadata": {},
   "outputs": [
    {
     "name": "stdout",
     "output_type": "stream",
     "text": [
      "   sepal length (cm)  sepal width (cm)  petal length (cm)  petal width (cm)\n",
      "0                5.1               3.5                1.4               0.2\n",
      "1                4.9               3.0                1.4               0.2\n",
      "2                4.7               3.2                1.3               0.2\n",
      "3                4.6               3.1                1.5               0.2\n",
      "4                5.0               3.6                1.4               0.2\n",
      "shape of data: (150, 4)\n"
     ]
    }
   ],
   "source": [
    "# 将数据集转换为 pandas DataFrame\n",
    "df = pd.DataFrame(iris_dataset['data'], columns=iris_dataset['feature_names'])\n",
    "\n",
    "# 输出前五行\n",
    "print(df.head())\n",
    "\n",
    "# 查看数据量，共有150朵花\n",
    "print(\"shape of data: {}\".format(iris_dataset['data'].shape))"
   ]
  },
  {
   "cell_type": "markdown",
   "id": "e8f0571e",
   "metadata": {},
   "source": [
    "每一列对应的是鸢尾花的四个特征：花萼长度、花萼宽度、花瓣长度和花瓣宽度。"
   ]
  },
  {
   "cell_type": "markdown",
   "id": "02cd8959",
   "metadata": {},
   "source": [
    "**查看target字段**"
   ]
  },
  {
   "cell_type": "code",
   "execution_count": 31,
   "id": "1f6bde1d",
   "metadata": {},
   "outputs": [
    {
     "name": "stdout",
     "output_type": "stream",
     "text": [
      "target:\n",
      "[0 0 0 0 0 0 0 0 0 0 0 0 0 0 0 0 0 0 0 0 0 0 0 0 0 0 0 0 0 0 0 0 0 0 0 0 0\n",
      " 0 0 0 0 0 0 0 0 0 0 0 0 0 1 1 1 1 1 1 1 1 1 1 1 1 1 1 1 1 1 1 1 1 1 1 1 1\n",
      " 1 1 1 1 1 1 1 1 1 1 1 1 1 1 1 1 1 1 1 1 1 1 1 1 1 1 2 2 2 2 2 2 2 2 2 2 2\n",
      " 2 2 2 2 2 2 2 2 2 2 2 2 2 2 2 2 2 2 2 2 2 2 2 2 2 2 2 2 2 2 2 2 2 2 2 2 2\n",
      " 2 2]\n"
     ]
    }
   ],
   "source": [
    "print(\"target:\\n{}\".format(iris_dataset['target']))"
   ]
  },
  {
   "cell_type": "markdown",
   "id": "78f401c9",
   "metadata": {},
   "source": [
    "在鸢尾花数据集中，`target` 字段的值为 0、1 或 2，表示数据集中的三个类别：\n",
    "\n",
    "- `0` 代表 **Setosa**\n",
    "- `1` 代表 **Versicolor**\n",
    "- `2` 代表 **Virginica**\n",
    "\n",
    "这些数字标签对应着鸢尾花的三个不同品种，每个样本的 `target` 值表示该样本所属的类别。\n"
   ]
  },
  {
   "cell_type": "markdown",
   "id": "ef4e9927",
   "metadata": {},
   "source": [
    "## 3.一元线性回归"
   ]
  },
  {
   "cell_type": "code",
   "execution_count": 53,
   "id": "f327986c",
   "metadata": {},
   "outputs": [
    {
     "name": "stdout",
     "output_type": "stream",
     "text": [
      "   sepal length (cm)  sepal width (cm)  petal length (cm)  petal width (cm)\n",
      "0                5.1               3.5                1.4               0.2\n",
      "1                4.9               3.0                1.4               0.2\n",
      "2                4.7               3.2                1.3               0.2\n",
      "3                4.6               3.1                1.5               0.2\n",
      "4                5.0               3.6                1.4               0.2\n",
      "均方误差 (MSE): 0.045604284097661846\n",
      "平均绝对误差 (MAE): 0.16818126256563326\n",
      "决定系数 (R²): 0.9282562958836972\n"
     ]
    },
    {
     "data": {
      "image/png": "[encoded data removed]",
      "text/plain": [
       "<Figure size 864x432 with 2 Axes>"
      ]
     },
     "metadata": {
      "needs_background": "light"
     },
     "output_type": "display_data"
    }
   ],
   "source": [
    "import numpy as np\n",
    "import pandas as pd\n",
    "import matplotlib.pyplot as plt\n",
    "from matplotlib import rcParams\n",
    "from sklearn.datasets import load_iris\n",
    "from sklearn.linear_model import LinearRegression\n",
    "from sklearn.model_selection import train_test_split\n",
    "from sklearn.metrics import mean_squared_error, mean_absolute_error, r2_score\n",
    "\n",
    "# 设置中文字体为 SimHei（黑体）\n",
    "rcParams['font.sans-serif'] = ['SimHei']\n",
    "# 解决负号 '-' 显示问题\n",
    "rcParams['axes.unicode_minus'] = False\n",
    "\n",
    "# 加载鸢尾花数据集\n",
    "iris_dataset = load_iris()\n",
    "\n",
    "# 转换为DataFrame\n",
    "df = pd.DataFrame(iris_dataset['data'], columns=iris_dataset['feature_names'])\n",
    "\n",
    "# 打印数据集的前几行\n",
    "print(df.head())\n",
    "\n",
    "# 选择一个特征进行一元回归分析\n",
    "X = df[['petal length (cm)']]  # 特征：花瓣长度\n",
    "y = df['petal width (cm)']     # 目标变量：花瓣宽度\n",
    "\n",
    "# 拆分数据集为训练集和测试集\n",
    "X_train, X_test, y_train, y_test = train_test_split(X, y, test_size=0.2, random_state=42)\n",
    "\n",
    "# 创建并训练模型\n",
    "model = LinearRegression()\n",
    "model.fit(X_train, y_train)\n",
    "\n",
    "# 预测\n",
    "y_pred_train = model.predict(X_train)  # 预测训练集\n",
    "y_pred_test = model.predict(X_test)    # 预测测试集\n",
    "\n",
    "# 评估模型\n",
    "mse = mean_squared_error(y_test, y_pred_test)\n",
    "mae = mean_absolute_error(y_test, y_pred_test)\n",
    "r2 = r2_score(y_test, y_pred_test)\n",
    "\n",
    "# 输出评估结果\n",
    "print(f\"均方误差 (MSE): {mse}\")\n",
    "print(f\"平均绝对误差 (MAE): {mae}\")\n",
    "print(f\"决定系数 (R²): {r2}\")\n",
    "\n",
    "# 绘制训练集的实际值与预测值的回归图\n",
    "plt.figure(figsize=(12, 6))\n",
    "\n",
    "plt.subplot(1, 2, 1)  # 第一张子图\n",
    "plt.scatter(X_train, y_train, color='blue', label='实际值')\n",
    "plt.plot(X_train, y_pred_train, color='red', linewidth=2, label='预测值')\n",
    "plt.title('训练集：花瓣宽度 vs 花瓣长度')\n",
    "plt.xlabel('花瓣长度 (cm)')\n",
    "plt.ylabel('花瓣宽度 (cm)')\n",
    "plt.legend()\n",
    "\n",
    "# 绘制测试集的实际值与预测值的回归图\n",
    "plt.subplot(1, 2, 2)  # 第二张子图\n",
    "plt.scatter(X_test, y_test, color='blue', label='实际值')\n",
    "plt.plot(X_test, y_pred_test, color='red', linewidth=2, label='预测值')\n",
    "plt.title('测试集：花瓣宽度 vs 花瓣长度')\n",
    "plt.xlabel('花瓣长度 (cm)')\n",
    "plt.ylabel('花瓣宽度 (cm)')\n",
    "plt.legend()\n",
    "\n",
    "# 显示图像\n",
    "plt.tight_layout()\n",
    "plt.show()\n"
   ]
  },
  {
   "cell_type": "markdown",
   "id": "b7ea85d9",
   "metadata": {},
   "source": [
    "## 4.多元回归分析"
   ]
  },
  {
   "cell_type": "markdown",
   "id": "f0fbb210",
   "metadata": {},
   "source": [
    "### 1. 准备数据\n",
    "首先，选择多个特征来训练模型。使用鸢尾花数据集中的四个特征：\n",
    "- **花萼长度（sepal length）**\n",
    "- **花瓣长度（petal length）**\n",
    "- **花萼宽度（sepal width）**\n",
    "- **花瓣宽度（petal width）**\n",
    "\n",
    "### 2. 拆分数据集\n",
    "将数据集按8:1为训练集和测试集\n",
    "\n",
    "### 3. 训练模型\n",
    "使用多元回归模型来进行训练。该模型会基于输入的四个特征来预测花的所属类别。通过最小化误差，模型会学习如何从特征中提取有用的信息，从而进行预测。\n",
    "\n",
    "### 4. 预测与评估\n",
    "模型完成训练，使用测试集进行预测。通过以下几个评估指标来评估模型的性能：\n",
    "- **均方误差 (MSE)**：衡量预测值与真实值之间的平均平方差异。\n",
    "- **平均绝对误差 (MAE)**：衡量预测值与真实值之间的平均绝对差异。\n",
    "- **决定系数 (R²)**：衡量模型拟合优度的指标，值越接近 1 表示模型表现越好。\n",
    "\n",
    "### 5. 可视化\n",
    "最后，绘制回归图来展示模型的表现。分别绘制训练集和测试集的实际值与预测值的散点图。理想情况下，实际值与预测值应该接近对角线。\n"
   ]
  },
  {
   "cell_type": "code",
   "execution_count": 54,
   "id": "c3936f80",
   "metadata": {},
   "outputs": [
    {
     "name": "stdout",
     "output_type": "stream",
     "text": [
      "   sepal length (cm)  sepal width (cm)  petal length (cm)  petal width (cm)\n",
      "0                5.1               3.5                1.4               0.2\n",
      "1                4.9               3.0                1.4               0.2\n",
      "2                4.7               3.2                1.3               0.2\n",
      "3                4.6               3.1                1.5               0.2\n",
      "4                5.0               3.6                1.4               0.2\n",
      "均方误差 (MSE): 1.2358820848462518e-30\n",
      "平均绝对误差 (MAE): 1.0658141036401502e-15\n",
      "决定系数 (R²): 1.0\n"
     ]
    },
    {
     "data": {
      "image/png": "[encoded data removed]",
      "text/plain": [
       "<Figure size 864x432 with 2 Axes>"
      ]
     },
     "metadata": {
      "needs_background": "light"
     },
     "output_type": "display_data"
    }
   ],
   "source": [
    "import numpy as np\n",
    "import pandas as pd\n",
    "import matplotlib.pyplot as plt\n",
    "from matplotlib import rcParams\n",
    "from sklearn.datasets import load_iris\n",
    "from sklearn.linear_model import LinearRegression\n",
    "from sklearn.model_selection import train_test_split\n",
    "from sklearn.metrics import mean_squared_error, mean_absolute_error, r2_score\n",
    "\n",
    "# 设置中文字体为 SimHei（黑体）\n",
    "rcParams['font.sans-serif'] = ['SimHei']\n",
    "# 解决负号 '-' 显示问题\n",
    "rcParams['axes.unicode_minus'] = False\n",
    "\n",
    "# 加载鸢尾花数据集\n",
    "iris_dataset = load_iris()\n",
    "\n",
    "# 转换为DataFrame\n",
    "df = pd.DataFrame(iris_dataset['data'], columns=iris_dataset['feature_names'])\n",
    "\n",
    "# 打印数据集的前几行\n",
    "print(df.head())\n",
    "\n",
    "# 选择多个特征进行多元回归分析\n",
    "X = df[['sepal length (cm)', 'petal length (cm)', 'sepal width (cm)', 'petal width (cm)']]  # 特征\n",
    "y = df['sepal width (cm)']  # 目标变量：花萼宽度\n",
    "\n",
    "# 拆分数据集为训练集和测试集\n",
    "X_train, X_test, y_train, y_test = train_test_split(X, y, test_size=0.2, random_state=42)\n",
    "\n",
    "# 创建并训练模型\n",
    "model = LinearRegression()\n",
    "model.fit(X_train, y_train)\n",
    "\n",
    "# 预测\n",
    "y_pred_train = model.predict(X_train)  # 预测训练集\n",
    "y_pred_test = model.predict(X_test)    # 预测测试集\n",
    "\n",
    "# 评估模型\n",
    "mse = mean_squared_error(y_test, y_pred_test)\n",
    "mae = mean_absolute_error(y_test, y_pred_test)\n",
    "r2 = r2_score(y_test, y_pred_test)\n",
    "\n",
    "# 输出评估结果\n",
    "print(f\"均方误差 (MSE): {mse}\")\n",
    "print(f\"平均绝对误差 (MAE): {mae}\")\n",
    "print(f\"决定系数 (R²): {r2}\")\n",
    "\n",
    "# 绘制训练集的实际值与预测值的回归图\n",
    "plt.figure(figsize=(12, 6))\n",
    "\n",
    "plt.subplot(1, 2, 1)  # 第一张子图\n",
    "plt.scatter(y_train, y_pred_train, color='blue')\n",
    "plt.title('训练集：实际值 vs 预测值')\n",
    "plt.xlabel('实际值')\n",
    "plt.ylabel('预测值')\n",
    "plt.plot([min(y_train), max(y_train)], [min(y_train), max(y_train)], color='red', linewidth=2)  # 画一条对角线\n",
    "\n",
    "# 绘制测试集的实际值与预测值的回归图\n",
    "plt.subplot(1, 2, 2)  # 第二张子图\n",
    "plt.scatter(y_test, y_pred_test, color='blue')\n",
    "plt.title('测试集：实际值 vs 预测值')\n",
    "plt.xlabel('实际值')\n",
    "plt.ylabel('预测值')\n",
    "plt.plot([min(y_test), max(y_test)], [min(y_test), max(y_test)], color='red', linewidth=2)  # 画一条对角线\n",
    "\n",
    "# 显示图像\n",
    "plt.tight_layout()\n",
    "plt.show()\n"
   ]
  },
  {
   "cell_type": "code",
   "execution_count": null,
   "id": "c8e5bfcc",
   "metadata": {},
   "outputs": [],
   "source": []
  }
 ],
 "metadata": {
  "kernelspec": {
   "display_name": "Python 3",
   "language": "python",
   "name": "python3"
  },
  "language_info": {
   "codemirror_mode": {
    "name": "ipython",
    "version": 3
   },
   "file_extension": ".py",
   "mimetype": "text/x-python",
   "name": "python",
   "nbconvert_exporter": "python",
   "pygments_lexer": "ipython3",
   "version": "3.8.8"
  }
 },
 "nbformat": 4,
 "nbformat_minor": 5
}
